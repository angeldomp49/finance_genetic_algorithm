{
 "cells": [
  {
   "cell_type": "code",
   "execution_count": null,
   "id": "initial_id",
   "metadata": {
    "collapsed": true
   },
   "outputs": [],
   "source": [
    "import sagemaker\n",
    "from sagemaker.processing import ScriptProcessor, ProcessingInput, ProcessingOutput\n",
    "import os"
   ]
  },
  {
   "metadata": {},
   "cell_type": "code",
   "outputs": [],
   "execution_count": null,
   "source": [
    "sagemaker_session = sagemaker.Session()\n",
    "role = sagemaker.get_execution_role()"
   ],
   "id": "40358157af3a485"
  },
  {
   "metadata": {},
   "cell_type": "code",
   "outputs": [],
   "execution_count": null,
   "source": "local_source_code_dir = './'",
   "id": "5d5415650b805434"
  },
  {
   "metadata": {},
   "cell_type": "code",
   "outputs": [],
   "execution_count": null,
   "source": "entry_point_script = 'main.py'",
   "id": "fbda29c0a45406b9"
  },
  {
   "metadata": {},
   "cell_type": "code",
   "outputs": [],
   "execution_count": null,
   "source": [
    "input_data_s3_path = f\"s3://{sagemaker_session.default_bucket()}/stock-data-for-portfolio-optimization/stock_daily_returns.csv\"\n",
    "output_data_s3_path = f\"s3://{sagemaker_session.default_bucket()}/optimized_portfolios/\""
   ],
   "id": "ff941931f8d8db05"
  },
  {
   "metadata": {},
   "cell_type": "code",
   "outputs": [],
   "execution_count": null,
   "source": [
    "processor = ScriptProcessor(\n",
    "    image_uri=sagemaker.image_uris.retrieve(\n",
    "        sagemaker_session.boto_region_name, \"python\", \"3.9\"\n",
    "    ),\n",
    "    role=role,\n",
    "    instance_count=1,\n",
    "    instance_type='ml.t3.medium',\n",
    "    command=['python3'],\n",
    "    source_dir=local_source_code_dir,\n",
    "    entry_point=entry_point_script,\n",
    ")"
   ],
   "id": "18553238adb258a"
  },
  {
   "metadata": {},
   "cell_type": "code",
   "outputs": [],
   "execution_count": null,
   "source": [
    "processor.run(\n",
    "    inputs=[\n",
    "        ProcessingInput(\n",
    "            source=input_data_s3_path,\n",
    "            destination='/opt/ml/processing/input/data',\n",
    "            s3_data_type='S3Prefix',\n",
    "            s3_input_mode='File'\n",
    "        )\n",
    "    ],\n",
    "    outputs=[\n",
    "        ProcessingOutput(\n",
    "            source='/opt/ml/processing/output/results',\n",
    "            destination=output_data_s3_path\n",
    "        )\n",
    "    ],\n",
    "    arguments=[\n",
    "        '--input_data_path', os.path.join('/opt/ml/processing/input/data', 'stock_daily_returns.csv'),\n",
    "        '--output_data_path', '/opt/ml/processing/output/results',\n",
    "        '--num_generations', '200',\n",
    "        '--population_size', '100',\n",
    "        '--risk_free_rate', '0.025',\n",
    "        '--crossover_rate', '0.7',\n",
    "        '--mutation_rate', '0.15',\n",
    "        '--elitism_count', '5'\n",
    "    ]\n",
    ")"
   ],
   "id": "eb7f9b72954b0559"
  },
  {
   "metadata": {},
   "cell_type": "code",
   "outputs": [],
   "execution_count": null,
   "source": [
    "print(f\"SageMaker Processing Job launched. Check CloudWatch logs for progress.\")\n",
    "print(f\"Results will be in S3: {output_data_s3_path}\")"
   ],
   "id": "69b0915056e4844"
  }
 ],
 "metadata": {
  "kernelspec": {
   "display_name": "Python 3",
   "language": "python",
   "name": "python3"
  },
  "language_info": {
   "codemirror_mode": {
    "name": "ipython",
    "version": 2
   },
   "file_extension": ".py",
   "mimetype": "text/x-python",
   "name": "python",
   "nbconvert_exporter": "python",
   "pygments_lexer": "ipython2",
   "version": "2.7.6"
  }
 },
 "nbformat": 4,
 "nbformat_minor": 5
}
